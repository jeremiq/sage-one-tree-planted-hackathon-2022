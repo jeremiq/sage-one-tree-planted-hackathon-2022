{
 "cells": [
  {
   "cell_type": "code",
   "execution_count": 1,
   "id": "1b84915a-40bd-45af-82ce-6c468fd33c30",
   "metadata": {
    "jupyter": {
     "source_hidden": true
    },
    "tags": []
   },
   "outputs": [
    {
     "data": {
      "text/html": [
       "<script>\n",
       "    // AUTORUN ALL CELLS ON NOTEBOOK-LOAD!\n",
       "    require(\n",
       "        ['base/js/namespace', 'jquery'], \n",
       "        function(jupyter, $) {\n",
       "            $(jupyter.events).on(\"kernel_ready.Kernel\", function () {\n",
       "                console.log(\"Auto-running all cells-below...\");\n",
       "                jupyter.actions.call('jupyter-notebook:run-all-cells-below');\n",
       "                jupyter.actions.call('jupyter-notebook:save-notebook');\n",
       "            });\n",
       "        }\n",
       "    );\n",
       "</script>\n"
      ],
      "text/plain": [
       "<IPython.core.display.HTML object>"
      ]
     },
     "metadata": {},
     "output_type": "display_data"
    }
   ],
   "source": [
    "%%html\n",
    "<script>\n",
    "    // AUTORUN ALL CELLS ON NOTEBOOK-LOAD!\n",
    "    require(\n",
    "        ['base/js/namespace', 'jquery'], \n",
    "        function(jupyter, $) {\n",
    "            $(jupyter.events).on(\"kernel_ready.Kernel\", function () {\n",
    "                console.log(\"Auto-running all cells-below...\");\n",
    "                jupyter.actions.call('jupyter-notebook:run-all-cells-below');\n",
    "                jupyter.actions.call('jupyter-notebook:save-notebook');\n",
    "            });\n",
    "        }\n",
    "    );\n",
    "</script>"
   ]
  },
  {
   "cell_type": "code",
   "execution_count": 2,
   "id": "dca6b080-8d33-41aa-a327-5188f89877ff",
   "metadata": {
    "jupyter": {
     "source_hidden": true
    },
    "tags": []
   },
   "outputs": [],
   "source": [
    "import base64\n",
    "import pandas as pd\n",
    "import re\n",
    "import sys\n",
    "import geopandas as gpd\n",
    "import contextily as cx\n",
    "import seaborn as sns\n",
    "import matplotlib.pyplot as plt\n",
    "from matplotlib_scalebar.scalebar import ScaleBar\n",
    "\n",
    "from ipywidgets import interact, interactive, interact_manual\n",
    "import ipywidgets as widgets\n",
    "from IPython.display import HTML, display"
   ]
  },
  {
   "cell_type": "code",
   "execution_count": null,
   "id": "7fb51be6",
   "metadata": {
    "jupyter": {
     "source_hidden": true
    },
    "tags": []
   },
   "outputs": [
    {
     "data": {
      "text/html": [
       "<style>\n",
       "    .widget-label { min-width: 20ex !important; }\n",
       "</style>"
      ],
      "text/plain": [
       "<IPython.core.display.HTML object>"
      ]
     },
     "metadata": {},
     "output_type": "display_data"
    }
   ],
   "source": [
    "sys.path.append(\"../..\")\n",
    "pd.options.display.max_rows = 500\n",
    "pd.options.display.max_columns = 200\n",
    "pd.options.display.max_colwidth = 100\n",
    "\n",
    "\n",
    "display(HTML('''<style>\n",
    "    .widget-label { min-width: 20ex !important; }\n",
    "</style>'''))\n",
    "\n",
    "from  sage_one_tree_planted.data.climate_and_economic_justice_dataset import ClimateAndEconomicJusticeDataset\n",
    "\n",
    "c = ClimateAndEconomicJusticeDataset()\n",
    "c.fetch_data()\n",
    "[communities_csv] = c.screening_data.glob(\"communities-*.csv\")\n",
    "df2=pd.read_csv(communities_csv)\n",
    "df_disadvantaged_communities = df2[df2[\"Identified as disadvantaged\"] == True]\n",
    "df_disadvantaged_communities.groupby([\"County Name\", \"State/Territory\"])[\"Identified as disadvantaged\"]\\\n",
    "    .count().to_frame().sort_values(\"Identified as disadvantaged\", ascending=False).head(100)\n",
    "\n",
    "total_census_tracts_df = df2.groupby([\"County Name\", \"State/Territory\",])[\"Census tract ID\"].count()\n",
    "USA_LOCATIONS = gpd.read_file(c.shape_file/\"usa.shp\")\n",
    "\n",
    "\n",
    "STATES=list(df2[\"State/Territory\"].unique())"
   ]
  },
  {
   "cell_type": "code",
   "execution_count": 4,
   "id": "241960fe-e743-41a9-89e0-af6464a4ad2c",
   "metadata": {
    "jupyter": {
     "source_hidden": true
    },
    "tags": []
   },
   "outputs": [],
   "source": [
    "%matplotlib inline\n",
    "def _is_disadvantaged_group(df):\n",
    "    return df[df[\"Identified as disadvantaged\"] == True]\n",
    "\n",
    "def _compute_mean(df, columns):\n",
    "    return df.groupby([\"County Name\", \"State/Territory\"])[columns].mean().reset_index()\n",
    "\n",
    "def plot_on_usa_map(df_tmp: pd.DataFrame, locations=USA_LOCATIONS) -> None:\n",
    "    df_tmp.rename(columns={\"County Name\":\"CF\", \"State/Territory\":\"SF\"}, inplace=True)\n",
    "    usa_filtered_locations = locations[(locations[\"SF\"].isin(set(df_tmp[\"SF\"].tolist()))) & \\\n",
    "                                           (locations[\"CF\"].isin(set(df_tmp[\"CF\"].tolist())))]\n",
    "    usa_filtered_locations_wm = usa_filtered_locations.to_crs(epsg=3857)\n",
    "    fig, ax = plt.subplots(1, 1, figsize=(15,15))\n",
    "    plt.close()\n",
    "    usa_filtered_locations_wm.plot(ax=ax, figsize=(10, 10), alpha=0.5, edgecolor='k')\n",
    "    cx.add_basemap(ax)\n",
    "    ax.add_artist(ScaleBar(1))\n",
    "    return fig\n",
    "\n",
    "def create_download_link( df, title = \"Download CSV file\", filename = \"data.csv\"):\n",
    "    csv = df.to_csv()\n",
    "    b64 = base64.b64encode(csv.encode())\n",
    "    payload = b64.decode()\n",
    "    html = '<a download=\"{filename}\" href=\"data:text/csv;base64,{payload}\" target=\"_blank\">{title}</a>'\n",
    "    html = html.format(payload=payload,title=title,filename=filename)\n",
    "    return HTML(html)\n",
    "\n",
    "def _remove_boolen_filter(columns):\n",
    "    res = []\n",
    "    for column in columns:\n",
    "        if not re.search(\"Greater.+\", column):\n",
    "            res.append(column)\n",
    "    return res"
   ]
  },
  {
   "cell_type": "markdown",
   "id": "d8f45074",
   "metadata": {},
   "source": [
    "# Identifying Disadvantaged Counties in the USA"
   ]
  },
  {
   "cell_type": "markdown",
   "id": "8cb54d30",
   "metadata": {},
   "source": [
    "## Methodology \n",
    "\n",
    "After starting to work with the data available on https://screeningtool.geoplatform.gov/en/methodology, we wanted to get a better idea of how which states and counties are most disadvantaged. \n",
    "\n",
    "We also wanted to give users the ability to explore those locations interactively based on user-set thresholds. \n",
    "\n",
    "Starting with the basics, we've created a tool that lets you identify which counties contain the most disadvantaged communities (Census Tracts) according to the disadvantaged critieria defined by the census. \n",
    "\n",
    "\n",
    "A census tract is identified as disadvantaged in one or more categories of criteria: \n",
    "\n",
    "IF the census tract is above the threshold for one or more environmental or climate indicators \n",
    "\n",
    "AND the census tract is above the threshold for the socioeconomic indicators \n",
    "(c.f. https://www.census.gov/programs-surveys/geography/guidance/geo-identifiers.html) \n",
    "\n",
    "\n"
   ]
  },
  {
   "cell_type": "markdown",
   "id": "29f156a3-ff4d-425b-9802-cd7c8eac602f",
   "metadata": {
    "tags": []
   },
   "source": [
    "#### These results are for the USA as a whole. If you'd like to zoom in on an individual state, scroll down! \n",
    "##### Legend\n",
    "- **topN** - the number of counties to show\n",
    "- **min_census_tracts** a filter of the minimum number of disadvantaged census tracts that a county must contain in order to be displayed\n",
    "- **Rank By**  By default, we rank each county by the percentage of disadvantaged census tracts that it contains. If you'd like to use the absolute value instead, just click\n",
    "- **show_map** A toggle to display the counties on a map of the USA, N.B. this can be a bit slow. "
   ]
  },
  {
   "cell_type": "code",
   "execution_count": 5,
   "id": "5cc4da5d",
   "metadata": {
    "jupyter": {
     "source_hidden": true
    },
    "tags": [
     "hide-input"
    ]
   },
   "outputs": [
    {
     "data": {
      "application/vnd.jupyter.widget-view+json": {
       "model_id": "a431f7b28bb04adf956e1b5140058c35",
       "version_major": 2,
       "version_minor": 0
      },
      "text/plain": [
       "Output()"
      ]
     },
     "metadata": {},
     "output_type": "display_data"
    },
    {
     "data": {
      "application/vnd.jupyter.widget-view+json": {
       "model_id": "17318af19c4e47038800ff8c02cc350d",
       "version_major": 2,
       "version_minor": 0
      },
      "text/plain": [
       "interactive(children=(IntSlider(value=10, description='topN', max=500, min=10, step=10), IntSlider(value=150, …"
      ]
     },
     "metadata": {},
     "output_type": "display_data"
    }
   ],
   "source": [
    "def show_disadvantaged_counties_usa(topN=10,  min_census_tracts=150, use_percent=True, show_map=False, ):\n",
    "    if not use_percent:\n",
    "        filtered = df_disadvantaged_communities.groupby([\"County Name\", \"State/Territory\"])[\"Identified as disadvantaged\"]\\\n",
    "            .count().to_frame().join(total_census_tracts_df).rename(columns={\"Census tract ID\":\"Total Census Tracts\", \"Identified as disadvantaged\": \"Total Census Tracts Identified as Disadvantaged\"})\\\n",
    "            .sort_values(\"Total Census Tracts Identified as Disadvantaged\", ascending=False)\n",
    "        \n",
    "        final_df = filtered[filtered[\"Total Census Tracts\"] >= min_census_tracts ].reset_index().head(topN).reset_index()[[\"County Name\", \"State/Territory\",\"Total Census Tracts\", \"Total Census Tracts Identified as Disadvantaged\" ]]\n",
    "        if show_map:\n",
    "            display(plot_on_usa_map(final_df))\n",
    "        display(final_df)\n",
    "        return final_df\n",
    "    else: \n",
    "        with_totals_df = df2.groupby([\"County Name\", \"State/Territory\", \"Identified as disadvantaged\"])[[\"Identified as disadvantaged\"]].count()\n",
    "        with_totals_df.columns = [\"count\"]\n",
    "        with_total_df = with_totals_df.join(total_census_tracts_df)\n",
    "        with_total_df[\"Percent of Census Tracts Identified as Disadvantaged\"] = 100 * with_total_df[\"count\"] / with_total_df[\"Census tract ID\"]\n",
    "        with_total_df.reset_index(inplace=True)\n",
    "        with_total_df.rename(columns={\"Census tract ID\":\"Total Census Tracts\"}, inplace=True)\n",
    "        filtered  = with_total_df[with_total_df[\"Identified as disadvantaged\"]  == True]\\\n",
    ".sort_values(\"Percent of Census Tracts Identified as Disadvantaged\", ascending=False).reset_index()\n",
    "        \n",
    "        final_df = filtered[filtered[\"Total Census Tracts\"] >= min_census_tracts ].head(topN).reset_index()[[\"County Name\", \"State/Territory\",\"Total Census Tracts\", \"Percent of Census Tracts Identified as Disadvantaged\" ]]\n",
    "        if show_map:\n",
    "            display(plot_on_usa_map(final_df))\n",
    "        display(final_df)\n",
    "        return final_df\n",
    "w = interactive(show_disadvantaged_counties_usa, topN=(10,500,10), min_census_tracts=(1, 1000, 5), use_percent = widgets.Dropdown(\n",
    "    options=[(\"Percentage of tracts\", True), (\"Total tracts\", False)],\n",
    "    description='Rank by',\n",
    ")\n",
    "         )\n",
    "\n",
    "output = widgets.Output()\n",
    "def generate_download_link_usa(arg):\n",
    "    output.clear_output()\n",
    "    with output:\n",
    "        display(create_download_link(w.result, filename=\"Ranked Disadvantaged Counties\"))\n",
    "    return\n",
    "\n",
    "for child in w.children:\n",
    "    child.observe(generate_download_link_usa)\n",
    "display(output, w)\n"
   ]
  },
  {
   "cell_type": "markdown",
   "id": "4ef2b0a2-6973-40bf-9266-09f30bf16ce4",
   "metadata": {},
   "source": [
    "# Identifying Disadvantaged Counties per state\n",
    "\n",
    "The methodology here is the same as the above, but now you can zoom in and identify the m\n"
   ]
  },
  {
   "cell_type": "code",
   "execution_count": 10,
   "id": "08f868c8",
   "metadata": {
    "jupyter": {
     "source_hidden": true
    },
    "tags": [
     "hide-input"
    ]
   },
   "outputs": [
    {
     "data": {
      "application/vnd.jupyter.widget-view+json": {
       "model_id": "3fb5edd036404cdb89d853b3f44b3bc1",
       "version_major": 2,
       "version_minor": 0
      },
      "text/plain": [
       "Output()"
      ]
     },
     "metadata": {},
     "output_type": "display_data"
    },
    {
     "data": {
      "application/vnd.jupyter.widget-view+json": {
       "model_id": "7ba9ae983dd0464ea4515f4e1a20fb7b",
       "version_major": 2,
       "version_minor": 0
      },
      "text/plain": [
       "interactive(children=(Dropdown(description='state', options=('Alabama', 'Alaska', 'Arizona', 'Arkansas', 'Cali…"
      ]
     },
     "metadata": {},
     "output_type": "display_data"
    }
   ],
   "source": [
    "def show_disadvantaged_counties_state(state=STATES, topN=10,  min_census_tracts=150, use_percent=True, show_map=False, ):\n",
    "    if not use_percent:\n",
    "        filtered = df_disadvantaged_communities[df_disadvantaged_communities[\"State/Territory\"]==state].groupby([\"County Name\", \"State/Territory\"])[\"Identified as disadvantaged\"]\\\n",
    "            .count().to_frame().join(total_census_tracts_df).rename(columns={\"Census tract ID\":\"Total Census Tracts\", \"Identified as disadvantaged\": \"Total Census Tracts Identified as Disadvantaged\"})\\\n",
    "            .sort_values(\"Total Census Tracts Identified as Disadvantaged\", ascending=False)\n",
    "        \n",
    "        final_df = filtered[filtered[\"Total Census Tracts\"] >= min_census_tracts ].reset_index().head(topN).reset_index()[[\"County Name\", \"State/Territory\",\"Total Census Tracts\", \"Total Census Tracts Identified as Disadvantaged\" ]]\n",
    "        if show_map:\n",
    "            display(plot_on_usa_map(final_df))\n",
    "        display(final_df)\n",
    "        return final_df\n",
    "    else: \n",
    "        with_totals_df = df2[df2[\"State/Territory\"] == state].groupby([\"County Name\", \"State/Territory\", \"Identified as disadvantaged\"])[[\"Identified as disadvantaged\"]].count()\n",
    "        with_totals_df.columns = [\"count\"]\n",
    "        with_total_df = with_totals_df.join(total_census_tracts_df)\n",
    "        with_total_df[\"Percent of Census Tracts Identified as Disadvantaged\"] = 100 * with_total_df[\"count\"] / with_total_df[\"Census tract ID\"]\n",
    "        with_total_df.reset_index(inplace=True)\n",
    "        with_total_df.rename(columns={\"Census tract ID\":\"Total Census Tracts\"}, inplace=True)\n",
    "        filtered  = with_total_df[with_total_df[\"Identified as disadvantaged\"]  == True]\\\n",
    ".sort_values(\"Percent of Census Tracts Identified as Disadvantaged\", ascending=False).reset_index()\n",
    "        \n",
    "        final_df = filtered[filtered[\"Total Census Tracts\"] >= min_census_tracts ].head(topN).reset_index()[[\"County Name\", \"State/Territory\",\"Total Census Tracts\", \"Percent of Census Tracts Identified as Disadvantaged\" ]]\n",
    "        if show_map:\n",
    "            display(plot_on_usa_map(final_df))\n",
    "        display(final_df)\n",
    "        return final_df\n",
    "\n",
    "w_state = interactive(show_disadvantaged_counties_state, topN=(10,500,10), min_census_tracts=(1, 1000, 5), use_percent = widgets.Dropdown(\n",
    "    options=[(\"Percentage of tracts\", True), (\"Total tracts\", False)],\n",
    "    description='Rank by',\n",
    ")\n",
    "         )\n",
    "output_state = widgets.Output()\n",
    "def generate_download_link_state(arg):\n",
    "    output_state.clear_output()\n",
    "    with output_state:\n",
    "        display(create_download_link(w_state.result, filename=f\"Ranked Disadvantaged Counties in {w_state.kwargs.get('state', 'your state')}\"))\n",
    "    return\n",
    "\n",
    "for child in w_state.children:\n",
    "    child.observe(generate_download_link_state)\n",
    "\n",
    "display(output_state, w_state)"
   ]
  },
  {
   "cell_type": "markdown",
   "id": "2a0a194e-49f0-4e3f-b405-099262ae1efc",
   "metadata": {},
   "source": [
    "# Identifying Disadvantaged Counties by Specific Criteria"
   ]
  },
  {
   "cell_type": "markdown",
   "id": "0215092b-4614-43b3-be20-f67aff692701",
   "metadata": {
    "tags": []
   },
   "source": [
    "The workbook below provides you with the ability to find the most disadvantaged counties by a criteria of your choice. \n",
    "\n",
    "##### Legend\n",
    "- **criteria** - the criteria for disadvantaged census tracts that you would like to use."
   ]
  },
  {
   "cell_type": "code",
   "execution_count": 21,
   "id": "b9065898-4bf3-4cff-952c-41fbed1d82cf",
   "metadata": {
    "jupyter": {
     "source_hidden": true
    },
    "tags": []
   },
   "outputs": [],
   "source": [
    "COLUMNS_FILTER = df2.columns.tolist()[3:]\n",
    "COLUMNS_FILTER.remove(\"Identified as disadvantaged\")\n",
    "COLUMNS_FILTER = _remove_boolen_filter(COLUMNS_FILTER)\n",
    "df_mean =_compute_mean(df=df_disadvantaged_communities , columns=COLUMNS_FILTER)"
   ]
  },
  {
   "cell_type": "code",
   "execution_count": 22,
   "id": "19737a87-7f3d-4e03-92d4-cb2fe1e23a8f",
   "metadata": {
    "jupyter": {
     "source_hidden": true
    },
    "tags": []
   },
   "outputs": [
    {
     "data": {
      "application/vnd.jupyter.widget-view+json": {
       "model_id": "9baed283c99048a3a6abbd2f7c30def0",
       "version_major": 2,
       "version_minor": 0
      },
      "text/plain": [
       "Output()"
      ]
     },
     "metadata": {},
     "output_type": "display_data"
    },
    {
     "data": {
      "application/vnd.jupyter.widget-view+json": {
       "model_id": "a423edfa232c480c8fbfa5f39172a389",
       "version_major": 2,
       "version_minor": 0
      },
      "text/plain": [
       "interactive(children=(Dropdown(description='criteria', options=('Total threshold criteria exceeded', 'Total ca…"
      ]
     },
     "metadata": {},
     "output_type": "display_data"
    }
   ],
   "source": [
    "pd.options.mode.chained_assignment = None\n",
    "\n",
    "def _rank_by_column(criteria=COLUMNS_FILTER, topN=10, state=STATES, show_map=False):\n",
    "    df_tmp = df_mean[df_mean[\"State/Territory\"] == state].copy()\n",
    "    df_tmp[\"max_rank\"] = df_tmp.groupby(\"State/Territory\")[criteria].rank(method=\"max\")\n",
    "    df_final = df_tmp[df_tmp[\"max_rank\"] <= topN]\n",
    "    if show_map:\n",
    "        display(plot_on_usa_map(df_final, locations=USA_LOCATIONS))\n",
    "    display(df_final)\n",
    "    return df_final\n",
    "by_criteria_w = interactive(_rank_by_column)\n",
    "\n",
    "output_criteria = widgets.Output()\n",
    "def generate_download_link_criteria(arg):\n",
    "    output_criteria.clear_output()\n",
    "    with output_criteria:\n",
    "        display(create_download_link(by_criteria_w.result, filename=f\"Counties in {by_criteria_w.kwargs.get('state', 'your state')} ranked by {by_criteria_w.kwargs.get('column', 'default')}\"))\n",
    "    return\n",
    "\n",
    "for child in by_criteria_w.children:\n",
    "    child.observe(generate_download_link_criteria)\n",
    "\n",
    "display(output_criteria, by_criteria_w)"
   ]
  },
  {
   "cell_type": "markdown",
   "id": "c6d75565",
   "metadata": {},
   "source": [
    "# Identifying disadvantaged states by one or more chosen criteria"
   ]
  },
  {
   "cell_type": "code",
   "execution_count": null,
   "id": "10c5eb61",
   "metadata": {},
   "outputs": [],
   "source": [
    "# Can use percentile columns as options for ranking\n",
    "percentile_cols = [x for x in df2.columns if \"(percentile)\" in x]\n",
    "state_col = \"State/Territory\""
   ]
  },
  {
   "cell_type": "code",
   "execution_count": null,
   "id": "f0fc17e3",
   "metadata": {},
   "outputs": [],
   "source": [
    "def plot_states(df_tmp: pd.DataFrame, locations=USA_LOCATIONS) -> None:\n",
    "    states = set(df_tmp.index.values)\n",
    "    usa_filtered_locations = locations[(locations[\"SF\"].isin(states))]\n",
    "    usa_filtered_locations_wm = usa_filtered_locations.to_crs(epsg=3857)\n",
    "    fig, ax = plt.subplots(1, 1, figsize=(15,15))\n",
    "    plt.close()\n",
    "    usa_filtered_locations_wm.plot(ax=ax, figsize=(10, 10), alpha=0.5, edgecolor='k')\n",
    "    cx.add_basemap(ax)\n",
    "    ax.add_artist(ScaleBar(1))\n",
    "    return fig"
   ]
  },
  {
   "cell_type": "code",
   "execution_count": null,
   "id": "86827586",
   "metadata": {},
   "outputs": [],
   "source": [
    "layout = {'width': 'max-content', 'height': '150px'}\n",
    "style = {'description_width': '150px'}\n",
    "def _state_ranking_by_criteria(criteria_cols=[], topN=10, show_map=False):\n",
    "    cols = list(criteria_cols)  + [state_col]\n",
    "    reduced_df = df2.loc[:,cols]\n",
    "    agg_df = reduced_df.groupby([state_col]).mean()\n",
    "    agg_df.dropna(inplace=True)\n",
    "    agg_df.columns = [f\"Mean {col} across state\" for col in agg_df.columns]\n",
    "    agg_df['Mean Percentile of Chosen Criteria'] = agg_df.mean(axis=1)\n",
    "    agg_df.sort_values('Mean Percentile of Chosen Criteria', inplace=True, ascending=False)\n",
    "    agg_df = agg_df.round(decimals=2)\n",
    "    topN_df = agg_df.head(topN)\n",
    "    if show_map:\n",
    "        display(plot_states(topN_df, locations=USA_LOCATIONS))\n",
    "    display(topN_df)\n",
    "    return topN_df\n",
    "\n",
    "criteria_selector = widgets.SelectMultiple(\n",
    "    layout = layout,\n",
    "    style = style,\n",
    "    options = percentile_cols,\n",
    "    description = \"Chosen ranking criteria:\",\n",
    "    disabled = False\n",
    ")\n",
    "state_by_criteria = interactive(\n",
    "    _state_ranking_by_criteria, \n",
    "    criteria_cols = criteria_selector,\n",
    "    topN = (1, len(STATES), 1),\n",
    "    show_map = False\n",
    ")\n",
    "output_criteria = widgets.Output()\n",
    "def generate_download_link_criteria(arg):\n",
    "    output_criteria.clear_output()\n",
    "    with output_criteria:\n",
    "        # Data downloaded should contain columns of chosen criteria only\n",
    "        display(create_download_link(state_by_criteria.result, filename=\"States ranked by custom criteria\"))\n",
    "    return\n",
    "for child in state_by_criteria.children:\n",
    "    child.observe(generate_download_link_criteria)\n",
    "display(state_by_criteria)"
   ]
  }
 ],
 "metadata": {
  "celltoolbar": "Tags",
  "kernelspec": {
   "display_name": "Python 3 (ipykernel)",
   "language": "python",
   "name": "python3"
  },
  "language_info": {
   "codemirror_mode": {
    "name": "ipython",
    "version": 3
   },
   "file_extension": ".py",
   "mimetype": "text/x-python",
   "name": "python",
   "nbconvert_exporter": "python",
   "pygments_lexer": "ipython3",
   "version": "3.10.3"
  }
 },
 "nbformat": 4,
 "nbformat_minor": 5
}
