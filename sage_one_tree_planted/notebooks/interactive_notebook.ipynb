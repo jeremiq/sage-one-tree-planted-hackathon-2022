{
 "cells": [
  {
   "cell_type": "markdown",
   "id": "d8f45074",
   "metadata": {},
   "source": [
    "# Identifying Disadvantaged Counties in the USA"
   ]
  },
  {
   "cell_type": "markdown",
   "id": "8cb54d30",
   "metadata": {},
   "source": [
    "## Methodology \n",
    "\n",
    "After starting to work with the data available on https://screeningtool.geoplatform.gov/en/methodology, we wanted to get a better idea of how which states and counties are most disadvantaged. \n",
    "\n",
    "We also wanted to give users the ability to explore those locations interactively based on user-set thresholds. \n",
    "\n",
    "Starting with the basics, we've created a tool that lets you identify which counties contain the most disadvantaged communities according to any of the disadvantaged critieria available. (c.f. https://www.census.gov/programs-surveys/geography/guidance/geo-identifiers.html) \n"
   ]
  },
  {
   "cell_type": "code",
   "execution_count": 134,
   "id": "7fb51be6",
   "metadata": {
    "jupyter": {
     "source_hidden": true
    },
    "tags": []
   },
   "outputs": [
    {
     "data": {
      "text/html": [
       "<style>\n",
       "    .widget-label { min-width: 20ex !important; }\n",
       "</style>"
      ],
      "text/plain": [
       "<IPython.core.display.HTML object>"
      ]
     },
     "metadata": {},
     "output_type": "display_data"
    }
   ],
   "source": [
    "import pandas as pd\n",
    "import sys\n",
    "\n",
    "from ipywidgets import interact, interact_manual\n",
    "import ipywidgets as widgets\n",
    "from IPython.display import HTML, display\n",
    "\n",
    "\n",
    "sys.path.append(\"../..\")\n",
    "pd.options.display.max_rows = 500\n",
    "pd.options.display.max_columns = 200\n",
    "pd.options.display.max_colwidth = 100\n",
    "\n",
    "\n",
    "display(HTML('''<style>\n",
    "    .widget-label { min-width: 20ex !important; }\n",
    "</style>'''))\n",
    "\n",
    "from  sage_one_tree_planted.data.climate_and_economic_justice_dataset import ClimateAndEconomicJusticeDataset\n",
    "c = ClimateAndEconomicJusticeDataset()\n",
    "c.fetch_data()"
   ]
  },
  {
   "cell_type": "code",
   "execution_count": 138,
   "id": "5cc4da5d",
   "metadata": {
    "jupyter": {
     "source_hidden": true
    },
    "tags": [
     "hide-input"
    ]
   },
   "outputs": [
    {
     "data": {
      "application/vnd.jupyter.widget-view+json": {
       "model_id": "a548f7e346d24b518bd7f1861dd4d5d5",
       "version_major": 2,
       "version_minor": 0
      },
      "text/plain": [
       "interactive(children=(IntSlider(value=10, description='top_results', max=500, min=10, step=10), IntSlider(valu…"
      ]
     },
     "metadata": {},
     "output_type": "display_data"
    }
   ],
   "source": [
    "df2=pd.read_csv(c.screening_data/\"communities-2022-05-06-1838GMT.csv\")\n",
    "df_disadvantaged_communities = df2[df2[\"Identified as disadvantaged\"] == True]\n",
    "df_disadvantaged_communities.groupby([\"County Name\", \"State/Territory\"])[\"Identified as disadvantaged\"]\\\n",
    "    .count().to_frame().sort_values(\"Identified as disadvantaged\", ascending=False).head(100)\n",
    "\n",
    "total_census_tracts_df = df2.groupby([\"County Name\", \"State/Territory\",])[\"Census tract ID\"].count()\n",
    "\n",
    "@interact(top_results=(10,500,10), total_census_tracts=(1, 1000, 1))\n",
    "def show_more_disadvantaged_counties(top_results=10,  total_census_tracts=2, normalize=False):\n",
    "    if not normalize:\n",
    "        filtered = df_disadvantaged_communities.groupby([\"County Name\", \"State/Territory\"])[\"Identified as disadvantaged\"]\\\n",
    "    .count().to_frame().join(total_census_tracts_df).rename(columns={\"Census tract ID\":\"Total Census Tracts\"}).sort_values(\"Identified as disadvantaged\", ascending=False).reset_index()\n",
    "        return filtered[filtered[\"Total Census Tracts\"] >= total_census_tracts ].head(top_results)\n",
    "    else: \n",
    "        with_totals_df = df2.groupby([\"County Name\", \"State/Territory\", \"Identified as disadvantaged\"])[[\"Identified as disadvantaged\"]].count()\n",
    "        with_totals_df.columns = [\"count\"]\n",
    "        with_total_df = with_totals_df.join(total_census_tracts_df)\n",
    "        with_total_df[\"Percent of Census Tracts Identified as Disadvantaged\"] = 100 * with_total_df[\"count\"] / with_total_df[\"Census tract ID\"]\n",
    "        with_total_df.reset_index(inplace=True)\n",
    "        with_total_df.rename(columns={\"Census tract ID\":\"Total Census Tracts\"}, inplace=True)\n",
    "        filtered  = with_total_df[with_total_df[\"Identified as disadvantaged\"]  == True][[\"County Name\", \"State/Territory\",\"Total Census Tracts\", \"Percent of Census Tracts Identified as Disadvantaged\" ]]\\\n",
    ".sort_values(\"Percent of Census Tracts Identified as Disadvantaged\", ascending=False)\n",
    "        \n",
    "        return filtered[filtered[\"Total Census Tracts\"] >= total_census_tracts ].reset_index().head(top_results)"
   ]
  },
  {
   "cell_type": "code",
   "execution_count": null,
   "id": "3002c31d-e683-418a-9855-820bc7f99311",
   "metadata": {},
   "outputs": [],
   "source": []
  },
  {
   "cell_type": "code",
   "execution_count": null,
   "id": "4f9c28c4",
   "metadata": {},
   "outputs": [],
   "source": []
  },
  {
   "cell_type": "code",
   "execution_count": null,
   "id": "764fd19a-2efb-4df1-a3fa-c7c555006532",
   "metadata": {},
   "outputs": [],
   "source": []
  },
  {
   "cell_type": "code",
   "execution_count": null,
   "id": "e48f4ad2-246b-4095-ba04-5dfcc0c601ef",
   "metadata": {},
   "outputs": [],
   "source": []
  }
 ],
 "metadata": {
  "celltoolbar": "Tags",
  "kernelspec": {
   "display_name": "Python 3 (ipykernel)",
   "language": "python",
   "name": "python3"
  },
  "language_info": {
   "codemirror_mode": {
    "name": "ipython",
    "version": 3
   },
   "file_extension": ".py",
   "mimetype": "text/x-python",
   "name": "python",
   "nbconvert_exporter": "python",
   "pygments_lexer": "ipython3",
   "version": "3.10.3"
  }
 },
 "nbformat": 4,
 "nbformat_minor": 5
}
