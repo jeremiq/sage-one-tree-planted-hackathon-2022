{
 "cells": [
  {
   "cell_type": "code",
   "execution_count": null,
   "id": "1b84915a-40bd-45af-82ce-6c468fd33c30",
   "metadata": {
    "jupyter": {
     "source_hidden": true
    },
    "tags": []
   },
   "outputs": [],
   "source": [
    "%%html\n",
    "<script>\n",
    "    // AUTORUN ALL CELLS ON NOTEBOOK-LOAD!\n",
    "    require(\n",
    "        ['base/js/namespace', 'jquery'], \n",
    "        function(jupyter, $) {\n",
    "            $(jupyter.events).on(\"kernel_ready.Kernel\", function () {\n",
    "                console.log(\"Auto-running all cells-below...\");\n",
    "                jupyter.actions.call('jupyter-notebook:run-all-cells-below');\n",
    "                jupyter.actions.call('jupyter-notebook:save-notebook');\n",
    "            });\n",
    "        }\n",
    "    );\n",
    "</script>"
   ]
  },
  {
   "cell_type": "code",
   "execution_count": null,
   "id": "7fb51be6",
   "metadata": {
    "jupyter": {
     "source_hidden": true
    },
    "tags": []
   },
   "outputs": [],
   "source": [
    "import pandas as pd\n",
    "import sys\n",
    "import re\n",
    "import geopandas as gpd\n",
    "import contextily as cx\n",
    "import seaborn as sns\n",
    "import matplotlib.pyplot as plt\n",
    "from matplotlib_scalebar.scalebar import ScaleBar\n",
    "\n",
    "from ipywidgets import interact, interact_manual\n",
    "import ipywidgets as widgets\n",
    "from IPython.display import HTML, display\n",
    "import warnings \n",
    "\n",
    "\n",
    "sys.path.append(\"../..\")\n",
    "pd.options.display.max_rows = 500\n",
    "pd.options.display.max_columns = 200\n",
    "pd.options.display.max_colwidth = 100\n",
    "\n",
    "warnings.filterwarnings(\"ignore\")\n",
    "\n",
    "\n",
    "display(HTML('''<style>\n",
    "    .widget-label { min-width: 20ex !important; }\n",
    "</style>'''))\n",
    "\n",
    "from  sage_one_tree_planted.data.climate_and_economic_justice_dataset import ClimateAndEconomicJusticeDataset"
   ]
  },
  {
   "cell_type": "code",
   "execution_count": null,
   "id": "241960fe-e743-41a9-89e0-af6464a4ad2c",
   "metadata": {
    "jupyter": {
     "source_hidden": true
    },
    "tags": []
   },
   "outputs": [],
   "source": [
    "def _is_disadvantaged_group(df):\n",
    "    return df[df[\"Identified as disadvantaged\"] == True]\n",
    "\n",
    "def _compute_mean(df, columns):\n",
    "    return df.groupby([\"County Name\", \"State/Territory\"])[columns].mean().reset_index()\n",
    "\n",
    "def _remove_boolen_filter(columns):\n",
    "    res = []\n",
    "    for column in columns:\n",
    "        if not re.search(\"Greater.+\", column):\n",
    "            res.append(column)\n",
    "    return res\n",
    "\n",
    "def plot_on_usa_map(df_tmp: pd.DataFrame, locations) -> None:\n",
    "    df_tmp.rename(columns={\"County Name\":\"CF\", \"State/Territory\":\"SF\"}, inplace=True)\n",
    "    usa_filtered_locations = locations[(locations[\"SF\"].isin(set(df_tmp[\"SF\"].tolist()))) & \\\n",
    "                                           (locations[\"CF\"].isin(set(df_tmp[\"CF\"].tolist())))]\n",
    "    usa_filtered_locations_wm = usa_filtered_locations.to_crs(epsg=3857)\n",
    "    ax = usa_filtered_locations_wm.plot(figsize=(10, 10), alpha=0.5, edgecolor='k')\n",
    "    cx.add_basemap(ax)\n",
    "    ax.add_artist(ScaleBar(1))"
   ]
  },
  {
   "cell_type": "code",
   "execution_count": null,
   "id": "5811f586",
   "metadata": {},
   "outputs": [],
   "source": [
    "c = ClimateAndEconomicJusticeDataset()\n",
    "c.fetch_data()\n",
    "df2=pd.read_csv(c.screening_data/\"communities-2022-05-06-1838GMT.csv\")\n",
    "df_disadvantaged_communities = df2[df2[\"Identified as disadvantaged\"] == True]\n",
    "df_disadvantaged_communities.groupby([\"County Name\", \"State/Territory\"])[\"Identified as disadvantaged\"]\\\n",
    "    .count().to_frame().sort_values(\"Identified as disadvantaged\", ascending=False).head(100)\n",
    "\n",
    "total_census_tracts_df = df2.groupby([\"County Name\", \"State/Territory\",])[\"Census tract ID\"].count()\n",
    "USA_LOCATIONS = gpd.read_file(c.shape_file/\"usa.shp\")\n",
    "COLUMNS_FILTER = df2.columns.tolist()[3:]\n",
    "\n",
    "STATES=list(df2[\"State/Territory\"].unique())"
   ]
  },
  {
   "cell_type": "markdown",
   "id": "d8f45074",
   "metadata": {},
   "source": [
    "# Identifying Disadvantaged Counties in the USA"
   ]
  },
  {
   "cell_type": "markdown",
   "id": "8cb54d30",
   "metadata": {},
   "source": [
    "## Methodology \n",
    "\n",
    "After starting to work with the data available on https://screeningtool.geoplatform.gov/en/methodology, we wanted to get a better idea of how which states and counties are most disadvantaged. \n",
    "\n",
    "We also wanted to give users the ability to explore those locations interactively based on user-set thresholds. \n",
    "\n",
    "Starting with the basics, we've created a tool that lets you identify which counties contain the most disadvantaged communities (Census Tracts) according to the disadvantaged critieria defined by the census. \n",
    "\n",
    "\n",
    "A census tract is identified as disadvantaged in one or more categories of criteria: \n",
    "\n",
    "IF the census tract is above the threshold for one or more environmental or climate indicators \n",
    "\n",
    "AND the census tract is above the threshold for the socioeconomic indicators \n",
    "(c.f. https://www.census.gov/programs-surveys/geography/guidance/geo-identifiers.html) \n",
    "\n",
    "\n"
   ]
  },
  {
   "cell_type": "markdown",
   "id": "29f156a3-ff4d-425b-9802-cd7c8eac602f",
   "metadata": {
    "tags": []
   },
   "source": [
    "#### These results are for the USA as a whole. If you'd like to zoom in on an individual state, scroll down! \n",
    "##### Legend\n",
    "- **topN** - the number of counties to show\n",
    "- **min_census_tracts** a filter of the minimum number of disadvantaged census tracts that a county must contain in order to be displayed\n",
    "- **Rank By**  By default, we rank each county by the percentage of disadvantaged census tracts that it contains. If you'd like to use the absolute value instead, just click\n",
    "- **show_map** A toggle to display the counties on a map of the USA, N.B. this can be a bit slow. "
   ]
  },
  {
   "cell_type": "code",
   "execution_count": null,
   "id": "5cc4da5d",
   "metadata": {
    "tags": [
     "hide-input"
    ]
   },
   "outputs": [],
   "source": [
    "@interact(topN=(10,500,10), min_census_tracts=(1, 1000, 5), use_percent = widgets.Dropdown(\n",
    "    options=[(\"Percentage of tracts\", True), (\"Total tracts\", False)],\n",
    "    description='Rank by',\n",
    ")\n",
    "         )\n",
    "def show_disadvantaged_counties(topN=10,  min_census_tracts=150, use_percent=True, show_map=False, ):\n",
    "    if not use_percent:\n",
    "        filtered = df_disadvantaged_communities.groupby([\"County Name\", \"State/Territory\"])[\"Identified as disadvantaged\"]\\\n",
    "            .count().to_frame().join(total_census_tracts_df).rename(columns={\"Census tract ID\":\"Total Census Tracts\", \"Identified as disadvantaged\": \"Total Census Tracts Identified as Disadvantaged\"})\\\n",
    "            .sort_values(\"Total Census Tracts Identified as Disadvantaged\", ascending=False)\n",
    "        \n",
    "        final_df = filtered[filtered[\"Total Census Tracts\"] >= min_census_tracts ].reset_index().head(topN).reset_index()[[\"County Name\", \"State/Territory\",\"Total Census Tracts\", \"Total Census Tracts Identified as Disadvantaged\" ]]\n",
    "        if show_map:\n",
    "            plot_on_usa_map(final_df)\n",
    "        return final_df\n",
    "    else: \n",
    "        with_totals_df = df2.groupby([\"County Name\", \"State/Territory\", \"Identified as disadvantaged\"])[[\"Identified as disadvantaged\"]].count()\n",
    "        with_totals_df.columns = [\"count\"]\n",
    "        with_total_df = with_totals_df.join(total_census_tracts_df)\n",
    "        with_total_df[\"Percent of Census Tracts Identified as Disadvantaged\"] = 100 * with_total_df[\"count\"] / with_total_df[\"Census tract ID\"]\n",
    "        with_total_df.reset_index(inplace=True)\n",
    "        with_total_df.rename(columns={\"Census tract ID\":\"Total Census Tracts\"}, inplace=True)\n",
    "        filtered  = with_total_df[with_total_df[\"Identified as disadvantaged\"]  == True]\\\n",
    ".sort_values(\"Percent of Census Tracts Identified as Disadvantaged\", ascending=False).reset_index()\n",
    "        \n",
    "        final_df = filtered[filtered[\"Total Census Tracts\"] >= min_census_tracts ].head(topN).reset_index()[[\"County Name\", \"State/Territory\",\"Total Census Tracts\", \"Percent of Census Tracts Identified as Disadvantaged\" ]]\n",
    "        if show_map:\n",
    "            plot_on_usa_map(final_df,locations=USA_LOCATIONS)\n",
    "        return final_df"
   ]
  },
  {
   "cell_type": "markdown",
   "id": "f2952c4e",
   "metadata": {},
   "source": [
    "# Identifying Disadvantaged Counties by Criteria in the USA"
   ]
  },
  {
   "cell_type": "markdown",
   "id": "a3576240",
   "metadata": {},
   "source": [
    "#### These results are for the USA as a whole. If you'd like to zoom in an an individual state, scroll down! \n",
    "##### Legend\n",
    "- **column** - the criteria for disadvantaged census tracts"
   ]
  },
  {
   "cell_type": "code",
   "execution_count": null,
   "id": "19ddec33",
   "metadata": {},
   "outputs": [],
   "source": [
    "COLUMNS_FILTER.remove(\"Identified as disadvantaged\")\n",
    "COLUMNS_FILTER = _remove_boolen_filter(COLUMNS_FILTER)\n",
    "df_mean =_compute_mean(df=df_disadvantaged_communities , columns=COLUMNS_FILTER)"
   ]
  },
  {
   "cell_type": "code",
   "execution_count": null,
   "id": "890daefd",
   "metadata": {},
   "outputs": [],
   "source": [
    "@interact\n",
    "def _rank_by_column(column=COLUMNS_FILTER, topN=10, state=STATES, show_map=False):\n",
    "    df_tmp = df_mean[df_mean[\"State/Territory\"] == state].copy()\n",
    "    df_tmp[\"max_rank\"] = df_tmp.groupby(\"State/Territory\")[column].rank(method=\"max\")\n",
    "    df_final = df_tmp[df_tmp[\"max_rank\"] <= topN]\n",
    "    if show_map:\n",
    "        plot_on_usa_map(df_final, locations=USA_LOCATIONS)\n",
    "    return df_final"
   ]
  }
 ],
 "metadata": {
  "celltoolbar": "Tags",
  "kernelspec": {
   "display_name": "Python 3 (ipykernel)",
   "language": "python",
   "name": "python3"
  },
  "language_info": {
   "codemirror_mode": {
    "name": "ipython",
    "version": 3
   },
   "file_extension": ".py",
   "mimetype": "text/x-python",
   "name": "python",
   "nbconvert_exporter": "python",
   "pygments_lexer": "ipython3",
   "version": "3.10.3"
  }
 },
 "nbformat": 4,
 "nbformat_minor": 5
}
